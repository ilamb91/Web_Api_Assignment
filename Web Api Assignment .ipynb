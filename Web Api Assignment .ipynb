{
 "cells": [
  {
   "cell_type": "markdown",
   "id": "11ab7ae0-50ac-4065-8dbb-74e79808954a",
   "metadata": {},
   "source": [
    "Q1. What is an API? Give an example, where an API is used in real life."
   ]
  },
  {
   "cell_type": "markdown",
   "id": "dd331b36-d604-4808-8204-c7f5fa2839da",
   "metadata": {},
   "source": [
    "An Application Programming Interface is a communication interface that allows two separate software components to share data. An API operates as a bridge between internal and external software operations, allowing for a fluid interchange of data that frequently passes undetected by the end-user. Simply said, an API acts as a virtual middleman, transferring data from one interface, such as a mobile app, to another. APIs connect various sections of a software platform to guarantee that information is sent correctly. These connection points serve as an internal communication route, and a way for external tools to access the same data. As a result, APIs may be classified into two types:\n",
    "\n",
    "- Private APIs: A private API is only available to developers and users within a company. These APIs are often used to link internal team operations to remove silos and streamline communication.\n",
    "- Open APIs: On the other hand, open APIs allow third-party developers to quickly access and merge data from one tool to another. An open or public API saves time for developers by allowing them to link their platform with already existing tools, minimizing the need to construct new services.\n",
    "\n",
    "Using Google Maps in a rideshare app. Building chatbots in a messaging service. Embedding YouTube videos into a webpage. Automating workflows between B2B software tools."
   ]
  },
  {
   "cell_type": "markdown",
   "id": "c7c6d6c7-75e6-477b-9f32-e1839354ad7a",
   "metadata": {},
   "source": [
    "Q2. Give advantages and disadvantages of using API."
   ]
  },
  {
   "cell_type": "markdown",
   "id": "0145316d-330e-4015-9681-fc7437e16c7b",
   "metadata": {
    "tags": []
   },
   "source": [
    "# Advantages\n",
    "- Increased Interoperability: API solutions enable different software systems to communicate with each other, regardless of their programming language or platform. This enhances the interoperability between systems, allowing for the exchange of data and functionality.\n",
    "- Improved Efficiency: API driven infrastructures enable developers to reuse code and functionality from existing software systems, saving time and reducing the amount of code that needs to be written from scratch.\n",
    "- Better User Experience: APIs can enable third-party developers to create applications that integrate with existing software systems, providing a better user experience and increased functionality.\n",
    "- Increased Flexibility: APIs provide developers with greater flexibility, enabling them to choose the best programming languages and frameworks for their needs.\n",
    "- New Revenue Streams: APIs can enable companies to create new revenue streams by providing third-party developers with access to their software systems.\n",
    "# Disadvantages\n",
    "- Security Concerns: API infrastructures can be vulnerable to security breaches, such as SQL injection attacks and cross-site scripting (XSS) attacks, making it crucial to implement security measures to protect against these threats.\n",
    "- Complexity: APIs can be complex, requiring a significant amount of development effort to implement and maintain.\n",
    "- Compatibility Issues: APIs can have compatibility issues between different versions of the same software system or between different systems, which can lead to errors and system failures.\n",
    "- Dependency on Third-Party Developers: APIs rely on third-party developers to create applications that integrate with the software system. This can create dependencies that are outside of the control of the company that owns the software system.\n",
    "- Governance and Management: APIs require proper governance and management to ensure they are being used correctly and consistently across different applications and systems."
   ]
  },
  {
   "cell_type": "markdown",
   "id": "37ba2384-4e6c-44ac-9e7d-f737e3b1fbd5",
   "metadata": {},
   "source": [
    "Q3. What is a Web API? Differentiate between API and Web API."
   ]
  },
  {
   "cell_type": "markdown",
   "id": "a78a2364-b1d6-4ace-b36e-1fcedea6f704",
   "metadata": {},
   "source": [
    "A3. Web API is an API as the name suggests, it can be accessed over the web using the HTTP protocol. It is a framework that helps you to create and develop HTTP based RESTFUL services. The web API can be developed by using different technologies such as java, ASP.NET, etc. Web API is used in either a web server or a web browser. Basically Web API is a web development concept. It is limited to Web Application’s client-side and also it does not include a web server or web browser details. If an application is to be used on a distributed system and to provide services on different devices like laptops, mobiles, etc then web API services are used. Web API is the enhanced form of the web application.\n",
    "\n",
    "- Both APIs and web services are technologies that enable the transfer of data between separate software applications. API is an interface that exposes an application's data to outside software, whereas web applications are one type of API with stricter requirements. These requirements include network communication, SOAP as the primary protocol, and less accessibility for the public. \n",
    "\n",
    "- While these definitions might seem quite nuanced, it's essential to comprehend the subtle but important distinctions between web technologies. Armed with this knowledge, you'll be well-equipped for discussions with developers and better understand your product's integrations.\n",
    "\n"
   ]
  },
  {
   "cell_type": "markdown",
   "id": "11802a73-1e40-4c49-974d-1c2c97c251e5",
   "metadata": {},
   "source": [
    "Q4. Explain REST and SOAP Architecture. Mention shortcomings of SOAP.\n"
   ]
  },
  {
   "cell_type": "markdown",
   "id": "cc8e5e69-c3ae-49af-8289-271e3cca6418",
   "metadata": {},
   "source": [
    "A4. SOAP and REST are two internet data exchange mechanisms. For example, imagine that your internal accounts system shares data with your customer's accounting system to automate invoicing tasks. The two applications share data by using an API that defines communication rules. SOAP and REST are two different approaches to API design. The SOAP approach is highly structured and uses XML data format. REST is more flexible and allows applications to exchange data in multiple formats.\n",
    "\n",
    "- As SOAP can only transfer messages as XML files, your SOAP API will be less performant, as XML is a verbose format compared to JSON. API calls made to your server will need more bandwidth and it will take more time to process the request and transfer the response back to the client."
   ]
  },
  {
   "cell_type": "markdown",
   "id": "e3554a0d-15f5-4cc8-9d6c-5dd1a2087c08",
   "metadata": {},
   "source": [
    "Q5. Differentiate between REST and SOAP."
   ]
  },
  {
   "cell_type": "markdown",
   "id": "83b534ac-3426-4a73-b230-4ee8fff4c2e6",
   "metadata": {},
   "source": [
    "# REST API\n",
    "- Relies on REST (Representational State Transfer) architecture using HTTP.\n",
    "- Generally transports data in JSON. It is based on URI. Because REST follows stateless model, REST does not enforces message format as XML or JSON etc.\n",
    "- It works with GET, POST, PUT, DELETE\n",
    "- Works over HTTP and HTTPS\n",
    "- Less structured -> less bulky data\n",
    "- Designed with mobile devices in mind\n",
    "\n",
    "# SOAP API\n",
    "- Relies on SOAP (Simple Object Access Protocol)\n",
    "- Transports data in standard XML format.\n",
    "- Because it is XML based and relies on SOAP, it works with WSDL\n",
    "- Works over HTTP, HTTPS, SMTP, XMPP\n",
    "- Highly structured/typed\n",
    "- Designed with large enterprise applications in mind"
   ]
  },
  {
   "cell_type": "code",
   "execution_count": null,
   "id": "f831b1c6-ed61-47f9-bbae-4cde27ccb235",
   "metadata": {},
   "outputs": [],
   "source": []
  }
 ],
 "metadata": {
  "kernelspec": {
   "display_name": "Python 3 (ipykernel)",
   "language": "python",
   "name": "python3"
  },
  "language_info": {
   "codemirror_mode": {
    "name": "ipython",
    "version": 3
   },
   "file_extension": ".py",
   "mimetype": "text/x-python",
   "name": "python",
   "nbconvert_exporter": "python",
   "pygments_lexer": "ipython3",
   "version": "3.10.8"
  }
 },
 "nbformat": 4,
 "nbformat_minor": 5
}
